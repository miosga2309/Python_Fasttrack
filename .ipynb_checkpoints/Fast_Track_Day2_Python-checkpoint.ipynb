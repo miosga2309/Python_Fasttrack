{
 "cells": [
  {
   "cell_type": "markdown",
   "metadata": {},
   "source": [
    "# Example use case\n",
    "In this example use case we can observe a basic dataset analysis. The dataset of choice is about candy. The variable *winpercent* is the overall win percentage. The data is computed from over 269,000 matchups. That is giving someone two options of candy and he or she has to choose, so basically a popularity measure. For our analysis, we will make use of several Python packages which will be centrally imported here."
   ]
  },
  {
   "cell_type": "code",
   "execution_count": 28,
   "metadata": {},
   "outputs": [],
   "source": [
    "import pandas as pd\n",
    "import numpy as np\n",
    "from sklearn import datasets\n",
    "import matplotlib.pyplot as plt\n",
    "import os\n",
    "import collections\n",
    "import seaborn as sns\n",
    "from sklearn.impute import SimpleImputer\n",
    "from sklearn.impute import KNNImputer\n",
    "import statsmodels.api as sm"
   ]
  },
  {
   "cell_type": "markdown",
   "metadata": {},
   "source": [
    "## Import data\n",
    "First of all, we import our data. We use an online source which is my GitHub, however, the data is not my own (which is properly documented in the README)."
   ]
  },
  {
   "cell_type": "code",
   "execution_count": 29,
   "metadata": {},
   "outputs": [],
   "source": [
    "data_url = \"https://raw.githubusercontent.com/miosga2309/candy_usecase/master/candy-data.csv\"\n",
    "df = pd.read_csv(data_url)"
   ]
  },
  {
   "cell_type": "markdown",
   "metadata": {},
   "source": [
    "Let's see how the data looks like."
   ]
  },
  {
   "cell_type": "code",
   "execution_count": 30,
   "metadata": {},
   "outputs": [
    {
     "data": {
      "text/html": [
       "<div>\n",
       "<style scoped>\n",
       "    .dataframe tbody tr th:only-of-type {\n",
       "        vertical-align: middle;\n",
       "    }\n",
       "\n",
       "    .dataframe tbody tr th {\n",
       "        vertical-align: top;\n",
       "    }\n",
       "\n",
       "    .dataframe thead th {\n",
       "        text-align: right;\n",
       "    }\n",
       "</style>\n",
       "<table border=\"1\" class=\"dataframe\">\n",
       "  <thead>\n",
       "    <tr style=\"text-align: right;\">\n",
       "      <th></th>\n",
       "      <th>competitorname</th>\n",
       "      <th>chocolate</th>\n",
       "      <th>fruity</th>\n",
       "      <th>caramel</th>\n",
       "      <th>peanutyalmondy</th>\n",
       "      <th>nougat</th>\n",
       "      <th>crispedricewafer</th>\n",
       "      <th>hard</th>\n",
       "      <th>bar</th>\n",
       "      <th>pluribus</th>\n",
       "      <th>sugarpercent</th>\n",
       "      <th>pricepercent</th>\n",
       "      <th>winpercent</th>\n",
       "    </tr>\n",
       "  </thead>\n",
       "  <tbody>\n",
       "    <tr>\n",
       "      <th>0</th>\n",
       "      <td>100 Grand</td>\n",
       "      <td>1</td>\n",
       "      <td>0</td>\n",
       "      <td>1</td>\n",
       "      <td>0</td>\n",
       "      <td>0</td>\n",
       "      <td>1</td>\n",
       "      <td>0</td>\n",
       "      <td>1</td>\n",
       "      <td>0</td>\n",
       "      <td>0.732</td>\n",
       "      <td>0.860</td>\n",
       "      <td>66.971725</td>\n",
       "    </tr>\n",
       "    <tr>\n",
       "      <th>1</th>\n",
       "      <td>3 Musketeers</td>\n",
       "      <td>1</td>\n",
       "      <td>0</td>\n",
       "      <td>0</td>\n",
       "      <td>0</td>\n",
       "      <td>1</td>\n",
       "      <td>0</td>\n",
       "      <td>0</td>\n",
       "      <td>1</td>\n",
       "      <td>0</td>\n",
       "      <td>0.604</td>\n",
       "      <td>0.511</td>\n",
       "      <td>67.602936</td>\n",
       "    </tr>\n",
       "    <tr>\n",
       "      <th>2</th>\n",
       "      <td>One dime</td>\n",
       "      <td>0</td>\n",
       "      <td>0</td>\n",
       "      <td>0</td>\n",
       "      <td>0</td>\n",
       "      <td>0</td>\n",
       "      <td>0</td>\n",
       "      <td>0</td>\n",
       "      <td>0</td>\n",
       "      <td>0</td>\n",
       "      <td>0.011</td>\n",
       "      <td>0.116</td>\n",
       "      <td>32.261086</td>\n",
       "    </tr>\n",
       "    <tr>\n",
       "      <th>3</th>\n",
       "      <td>One quarter</td>\n",
       "      <td>0</td>\n",
       "      <td>0</td>\n",
       "      <td>0</td>\n",
       "      <td>0</td>\n",
       "      <td>0</td>\n",
       "      <td>0</td>\n",
       "      <td>0</td>\n",
       "      <td>0</td>\n",
       "      <td>0</td>\n",
       "      <td>0.011</td>\n",
       "      <td>0.511</td>\n",
       "      <td>46.116505</td>\n",
       "    </tr>\n",
       "    <tr>\n",
       "      <th>4</th>\n",
       "      <td>Air Heads</td>\n",
       "      <td>0</td>\n",
       "      <td>1</td>\n",
       "      <td>0</td>\n",
       "      <td>0</td>\n",
       "      <td>0</td>\n",
       "      <td>0</td>\n",
       "      <td>0</td>\n",
       "      <td>0</td>\n",
       "      <td>0</td>\n",
       "      <td>0.906</td>\n",
       "      <td>0.511</td>\n",
       "      <td>52.341465</td>\n",
       "    </tr>\n",
       "  </tbody>\n",
       "</table>\n",
       "</div>"
      ],
      "text/plain": [
       "  competitorname  chocolate  fruity  caramel  peanutyalmondy  nougat  \\\n",
       "0      100 Grand          1       0        1               0       0   \n",
       "1   3 Musketeers          1       0        0               0       1   \n",
       "2       One dime          0       0        0               0       0   \n",
       "3    One quarter          0       0        0               0       0   \n",
       "4      Air Heads          0       1        0               0       0   \n",
       "\n",
       "   crispedricewafer  hard  bar  pluribus  sugarpercent  pricepercent  \\\n",
       "0                 1     0    1         0         0.732         0.860   \n",
       "1                 0     0    1         0         0.604         0.511   \n",
       "2                 0     0    0         0         0.011         0.116   \n",
       "3                 0     0    0         0         0.011         0.511   \n",
       "4                 0     0    0         0         0.906         0.511   \n",
       "\n",
       "   winpercent  \n",
       "0   66.971725  \n",
       "1   67.602936  \n",
       "2   32.261086  \n",
       "3   46.116505  \n",
       "4   52.341465  "
      ]
     },
     "execution_count": 30,
     "metadata": {},
     "output_type": "execute_result"
    }
   ],
   "source": [
    "df.head()"
   ]
  },
  {
   "cell_type": "markdown",
   "metadata": {},
   "source": [
    "This seems to be a good opportunity to describe our variables.\n",
    "\n",
    "### Variable descriptions\n",
    "#### Explanatory variables\n",
    "- **competitorname**: name of the candy brand (string)\n",
    "- **chocolate**: indicates if the candy contains chocolate (binary)\n",
    "- **fruity**: indicates if the candy is fruity (binary)\n",
    "- **caramel**: indicates if the candy contains caramel (binary)\n",
    "- **peanutyalmondy**: indicates if the candy contains nuts (binary)\n",
    "- **nougat**: indicates if the candy contains nougat (binary)\n",
    "- **crispedricewafer**: indicates if the candy is crispy (binary)\n",
    "- **hard**: indicates if the candy is hard opposed to soft (binary)\n",
    "- **bar**: indicates if the candy comes in the form of a bar (binary)\n",
    "- **pluribus**: indicates if the candy comes in the form of multiples, e.g. gummy bears (binary)\n",
    "- **sugarpercent**: indicates in which percentage -in reference to all other candies- the candy is with regard to sugar content (numeric)\n",
    "- **pricepercent**: indicates in which percentage -in reference to all other candies- the candy is with regard to pricing (numeric)\n",
    "\n",
    "#### Target variable\n",
    "- **winpercent**: indicates in which percentage -in reference to all other candies- the candy is with regard to preference by the participants of the experiment (numeric)"
   ]
  },
  {
   "cell_type": "markdown",
   "metadata": {},
   "source": [
    "We can use the pandas function `describe` to get an overview of our variables. Note that we only get numeric summaries of our binary variables which isn't very helpful."
   ]
  },
  {
   "cell_type": "code",
   "execution_count": 31,
   "metadata": {},
   "outputs": [
    {
     "data": {
      "text/html": [
       "<div>\n",
       "<style scoped>\n",
       "    .dataframe tbody tr th:only-of-type {\n",
       "        vertical-align: middle;\n",
       "    }\n",
       "\n",
       "    .dataframe tbody tr th {\n",
       "        vertical-align: top;\n",
       "    }\n",
       "\n",
       "    .dataframe thead th {\n",
       "        text-align: right;\n",
       "    }\n",
       "</style>\n",
       "<table border=\"1\" class=\"dataframe\">\n",
       "  <thead>\n",
       "    <tr style=\"text-align: right;\">\n",
       "      <th></th>\n",
       "      <th>chocolate</th>\n",
       "      <th>fruity</th>\n",
       "      <th>caramel</th>\n",
       "      <th>peanutyalmondy</th>\n",
       "      <th>nougat</th>\n",
       "      <th>crispedricewafer</th>\n",
       "      <th>hard</th>\n",
       "      <th>bar</th>\n",
       "      <th>pluribus</th>\n",
       "      <th>sugarpercent</th>\n",
       "      <th>pricepercent</th>\n",
       "      <th>winpercent</th>\n",
       "    </tr>\n",
       "  </thead>\n",
       "  <tbody>\n",
       "    <tr>\n",
       "      <th>count</th>\n",
       "      <td>85.000000</td>\n",
       "      <td>85.000000</td>\n",
       "      <td>85.000000</td>\n",
       "      <td>85.000000</td>\n",
       "      <td>85.000000</td>\n",
       "      <td>85.000000</td>\n",
       "      <td>85.000000</td>\n",
       "      <td>85.000000</td>\n",
       "      <td>85.000000</td>\n",
       "      <td>85.000000</td>\n",
       "      <td>85.000000</td>\n",
       "      <td>85.000000</td>\n",
       "    </tr>\n",
       "    <tr>\n",
       "      <th>mean</th>\n",
       "      <td>0.435294</td>\n",
       "      <td>0.447059</td>\n",
       "      <td>0.164706</td>\n",
       "      <td>0.164706</td>\n",
       "      <td>0.082353</td>\n",
       "      <td>0.082353</td>\n",
       "      <td>0.176471</td>\n",
       "      <td>0.247059</td>\n",
       "      <td>0.517647</td>\n",
       "      <td>0.478647</td>\n",
       "      <td>0.468882</td>\n",
       "      <td>50.316764</td>\n",
       "    </tr>\n",
       "    <tr>\n",
       "      <th>std</th>\n",
       "      <td>0.498738</td>\n",
       "      <td>0.500140</td>\n",
       "      <td>0.373116</td>\n",
       "      <td>0.373116</td>\n",
       "      <td>0.276533</td>\n",
       "      <td>0.276533</td>\n",
       "      <td>0.383482</td>\n",
       "      <td>0.433861</td>\n",
       "      <td>0.502654</td>\n",
       "      <td>0.282778</td>\n",
       "      <td>0.285740</td>\n",
       "      <td>14.714357</td>\n",
       "    </tr>\n",
       "    <tr>\n",
       "      <th>min</th>\n",
       "      <td>0.000000</td>\n",
       "      <td>0.000000</td>\n",
       "      <td>0.000000</td>\n",
       "      <td>0.000000</td>\n",
       "      <td>0.000000</td>\n",
       "      <td>0.000000</td>\n",
       "      <td>0.000000</td>\n",
       "      <td>0.000000</td>\n",
       "      <td>0.000000</td>\n",
       "      <td>0.011000</td>\n",
       "      <td>0.011000</td>\n",
       "      <td>22.445341</td>\n",
       "    </tr>\n",
       "    <tr>\n",
       "      <th>25%</th>\n",
       "      <td>0.000000</td>\n",
       "      <td>0.000000</td>\n",
       "      <td>0.000000</td>\n",
       "      <td>0.000000</td>\n",
       "      <td>0.000000</td>\n",
       "      <td>0.000000</td>\n",
       "      <td>0.000000</td>\n",
       "      <td>0.000000</td>\n",
       "      <td>0.000000</td>\n",
       "      <td>0.220000</td>\n",
       "      <td>0.255000</td>\n",
       "      <td>39.141056</td>\n",
       "    </tr>\n",
       "    <tr>\n",
       "      <th>50%</th>\n",
       "      <td>0.000000</td>\n",
       "      <td>0.000000</td>\n",
       "      <td>0.000000</td>\n",
       "      <td>0.000000</td>\n",
       "      <td>0.000000</td>\n",
       "      <td>0.000000</td>\n",
       "      <td>0.000000</td>\n",
       "      <td>0.000000</td>\n",
       "      <td>1.000000</td>\n",
       "      <td>0.465000</td>\n",
       "      <td>0.465000</td>\n",
       "      <td>47.829754</td>\n",
       "    </tr>\n",
       "    <tr>\n",
       "      <th>75%</th>\n",
       "      <td>1.000000</td>\n",
       "      <td>1.000000</td>\n",
       "      <td>0.000000</td>\n",
       "      <td>0.000000</td>\n",
       "      <td>0.000000</td>\n",
       "      <td>0.000000</td>\n",
       "      <td>0.000000</td>\n",
       "      <td>0.000000</td>\n",
       "      <td>1.000000</td>\n",
       "      <td>0.732000</td>\n",
       "      <td>0.651000</td>\n",
       "      <td>59.863998</td>\n",
       "    </tr>\n",
       "    <tr>\n",
       "      <th>max</th>\n",
       "      <td>1.000000</td>\n",
       "      <td>1.000000</td>\n",
       "      <td>1.000000</td>\n",
       "      <td>1.000000</td>\n",
       "      <td>1.000000</td>\n",
       "      <td>1.000000</td>\n",
       "      <td>1.000000</td>\n",
       "      <td>1.000000</td>\n",
       "      <td>1.000000</td>\n",
       "      <td>0.988000</td>\n",
       "      <td>0.976000</td>\n",
       "      <td>84.180290</td>\n",
       "    </tr>\n",
       "  </tbody>\n",
       "</table>\n",
       "</div>"
      ],
      "text/plain": [
       "       chocolate     fruity    caramel  peanutyalmondy     nougat  \\\n",
       "count  85.000000  85.000000  85.000000       85.000000  85.000000   \n",
       "mean    0.435294   0.447059   0.164706        0.164706   0.082353   \n",
       "std     0.498738   0.500140   0.373116        0.373116   0.276533   \n",
       "min     0.000000   0.000000   0.000000        0.000000   0.000000   \n",
       "25%     0.000000   0.000000   0.000000        0.000000   0.000000   \n",
       "50%     0.000000   0.000000   0.000000        0.000000   0.000000   \n",
       "75%     1.000000   1.000000   0.000000        0.000000   0.000000   \n",
       "max     1.000000   1.000000   1.000000        1.000000   1.000000   \n",
       "\n",
       "       crispedricewafer       hard        bar   pluribus  sugarpercent  \\\n",
       "count         85.000000  85.000000  85.000000  85.000000     85.000000   \n",
       "mean           0.082353   0.176471   0.247059   0.517647      0.478647   \n",
       "std            0.276533   0.383482   0.433861   0.502654      0.282778   \n",
       "min            0.000000   0.000000   0.000000   0.000000      0.011000   \n",
       "25%            0.000000   0.000000   0.000000   0.000000      0.220000   \n",
       "50%            0.000000   0.000000   0.000000   1.000000      0.465000   \n",
       "75%            0.000000   0.000000   0.000000   1.000000      0.732000   \n",
       "max            1.000000   1.000000   1.000000   1.000000      0.988000   \n",
       "\n",
       "       pricepercent  winpercent  \n",
       "count     85.000000   85.000000  \n",
       "mean       0.468882   50.316764  \n",
       "std        0.285740   14.714357  \n",
       "min        0.011000   22.445341  \n",
       "25%        0.255000   39.141056  \n",
       "50%        0.465000   47.829754  \n",
       "75%        0.651000   59.863998  \n",
       "max        0.976000   84.180290  "
      ]
     },
     "execution_count": 31,
     "metadata": {},
     "output_type": "execute_result"
    }
   ],
   "source": [
    "df.describe()"
   ]
  },
  {
   "cell_type": "markdown",
   "metadata": {},
   "source": [
    "A better way to get a first glimpse on our variables are tables or plots. At this point, we are already starting with our exploratory data analysis where we inspect our data free of expectations and assumptions."
   ]
  },
  {
   "cell_type": "markdown",
   "metadata": {},
   "source": [
    "## Exploratory data analysis\n",
    "### Distributions per feature\n",
    "First, we try tables for our binary variables. We can either use the built-in functions of `pandas` or ..."
   ]
  },
  {
   "cell_type": "code",
   "execution_count": 32,
   "metadata": {},
   "outputs": [
    {
     "name": "stdout",
     "output_type": "stream",
     "text": [
      "0    48\n",
      "1    37\n",
      "Name: chocolate, dtype: int64\n",
      "0    47\n",
      "1    38\n",
      "Name: fruity, dtype: int64\n",
      "0    71\n",
      "1    14\n",
      "Name: caramel, dtype: int64\n",
      "0    71\n",
      "1    14\n",
      "Name: peanutyalmondy, dtype: int64\n",
      "0    78\n",
      "1     7\n",
      "Name: nougat, dtype: int64\n",
      "0    78\n",
      "1     7\n",
      "Name: crispedricewafer, dtype: int64\n",
      "0    70\n",
      "1    15\n",
      "Name: hard, dtype: int64\n",
      "0    64\n",
      "1    21\n",
      "Name: bar, dtype: int64\n",
      "1    44\n",
      "0    41\n",
      "Name: pluribus, dtype: int64\n"
     ]
    }
   ],
   "source": [
    "print(df.chocolate.value_counts())\n",
    "print(df.fruity.value_counts())\n",
    "print(df.caramel.value_counts())\n",
    "print(df.peanutyalmondy.value_counts())\n",
    "print(df.nougat.value_counts())\n",
    "print(df.crispedricewafer.value_counts())\n",
    "print(df.hard.value_counts())\n",
    "print(df.bar.value_counts())\n",
    "print(df.pluribus.value_counts())"
   ]
  },
  {
   "cell_type": "markdown",
   "metadata": {},
   "source": [
    "... or we use `counter` from *collections* or ..."
   ]
  },
  {
   "cell_type": "code",
   "execution_count": 33,
   "metadata": {},
   "outputs": [
    {
     "data": {
      "text/plain": [
       "{0: 71, 1: 14}"
      ]
     },
     "execution_count": 33,
     "metadata": {},
     "output_type": "execute_result"
    }
   ],
   "source": [
    "dict(collections.Counter(df.peanutyalmondy))"
   ]
  },
  {
   "cell_type": "markdown",
   "metadata": {},
   "source": [
    "... we write our own function for peanutyalmondy as an example."
   ]
  },
  {
   "cell_type": "code",
   "execution_count": 34,
   "metadata": {},
   "outputs": [
    {
     "name": "stdout",
     "output_type": "stream",
     "text": [
      "{0, 1}\n"
     ]
    },
    {
     "data": {
      "text/plain": [
       "'14 of all candies are peanuty/almondy and 71 are not.'"
      ]
     },
     "execution_count": 34,
     "metadata": {},
     "output_type": "execute_result"
    }
   ],
   "source": [
    "print(set(df.peanutyalmondy)) # to make sure that there are only 0 and 1 in the column.\n",
    "str(len(df.peanutyalmondy[df.peanutyalmondy == 1])) + ' of all candies are peanuty/almondy and ' + str(len(df.peanutyalmondy[df.peanutyalmondy == 0])) + ' are not.'"
   ]
  },
  {
   "cell_type": "markdown",
   "metadata": {},
   "source": [
    "Alternatively, we could have also used bar charts. You can use whatever you like. Again, we used *pandas* `plot` methods because it is really convenient."
   ]
  },
  {
   "cell_type": "code",
   "execution_count": 35,
   "metadata": {},
   "outputs": [
    {
     "data": {
      "text/plain": [
       "<AxesSubplot:>"
      ]
     },
     "execution_count": 35,
     "metadata": {},
     "output_type": "execute_result"
    },
    {
     "data": {
      "image/png": "[encoded data removed]",
      "text/plain": [
       "<Figure size 432x288 with 1 Axes>"
      ]
     },
     "metadata": {
      "needs_background": "light"
     },
     "output_type": "display_data"
    }
   ],
   "source": [
    "df.peanutyalmondy.value_counts().plot.bar()"
   ]
  },
  {
   "cell_type": "markdown",
   "metadata": {},
   "source": [
    "By now, you have guessed that we took the feature peanuty/almondy for a reason. The group sizes of peanuty/almondy and not peanuty/almondy are very different which can be very important for the statistical method you may use later on."
   ]
  },
  {
   "cell_type": "markdown",
   "metadata": {},
   "source": [
    "Let's also visualize our numeric variables. Of course, frequency tables or bar charts are not a good choice anymore. We use histograms and put all our numeric variables in one plot."
   ]
  },
  {
   "cell_type": "code",
   "execution_count": 36,
   "metadata": {},
   "outputs": [
    {
     "data": {
      "text/plain": [
       "<AxesSubplot:>"
      ]
     },
     "execution_count": 36,
     "metadata": {},
     "output_type": "execute_result"
    },
    {
     "data": {
      "image/png": "[encoded data removed]",
      "text/plain": [
       "<Figure size 2160x360 with 3 Axes>"
      ]
     },
     "metadata": {
      "needs_background": "light"
     },
     "output_type": "display_data"
    }
   ],
   "source": [
    "fig, axes = plt.subplots(nrows=1,ncols=3,figsize=(30,5))\n",
    "df.sugarpercent.hist(ax=axes[0],rwidth=0.8) \n",
    "df.pricepercent.hist(ax=axes[1],rwidth=0.8) \n",
    "df.winpercent.hist(ax=axes[2],rwidth=0.8) "
   ]
  },
  {
   "cell_type": "markdown",
   "metadata": {},
   "source": [
    "### Correlation matrix\n",
    "Using *pandas* correlation matrix (`corr` function) and coloring it with *seaborn*'s `heatmap` gives a good first overview of our variables and their associations. Remember that winpercent as our popularity feature is the target variable. With this matrix, you can quickly identify variables that are determining popularity quite well, e.g. peanuty/almondy and chocolate seem to enhance popularity while fruity is decreasing it."
   ]
  },
  {
   "cell_type": "code",
   "execution_count": 37,
   "metadata": {},
   "outputs": [
    {
     "data": {
      "image/png": "[encoded data removed]",
      "text/plain": [
       "<Figure size 1080x1080 with 2 Axes>"
      ]
     },
     "metadata": {
      "needs_background": "light"
     },
     "output_type": "display_data"
    }
   ],
   "source": [
    "fig, ax = plt.subplots(figsize=(15,15))  \n",
    "hm = sns.heatmap(df.corr(), annot = True, ax=ax)\n",
    "hm.set(title = \"Correlation matrix of candy data\\n\")\n",
    "plt.show()"
   ]
  },
  {
   "cell_type": "markdown",
   "metadata": {},
   "source": [
    "## Data preprocessing\n",
    "Data preprocessing is an important step in every data analysis. In the best case, you look through your data in the preprocessing process and find no issues. In almost any case, especially when working with real-world dataset which aren't coming from kaggle or a student GitHub account, you will find something and need to take action.\n",
    "\n",
    "Preprocessing is usually handled very individually per dataset. A feature (e.g., column, variable) in a data may have a wrong format, for instance, numbers are stored as strings. You could also find outliers that are not plausible such as a person's height of 32.13 meters. \n",
    "\n",
    "Data exploration is not only good for getting to know your data better, it also helps you to find issues for the preprocessing. As you can imagine, there is not the one correct order of exploring and preprocessing your data. It is a cyclical process where you look at your data, find an issue, handle it, and look at your data again.\n",
    "\n",
    "The following steps are common preprocessing steps:\n",
    "- **Data quality assessment**\n",
    "    - Outlier analysis\n",
    "    - Data type analysis\n",
    "    - Data scale analysis\n",
    "- **Data cleaning**\n",
    "    - Handling missing data\n",
    "    - Handling noisy data\n",
    "- **Data transformation**\n",
    "    - Aggregation\n",
    "    - Normalization\n",
    "    - Feature selection\n",
    "    - Discreditization\n",
    "- **Data reduction**\n",
    "    - Attribute selection\n",
    "    - Dimensionality reduction\n",
    "\n",
    "With our data, we focus on data scales and missing data.\n",
    "\n",
    "### Data scale analysis\n",
    "Looking at the percentage features in our dataset, we quickly notice that *sugarpercent* and *pricepercent* are between 0 and 1, and *winpercent* ist between 0 and 100. Although the difference wouldn't do any harm in our analyses, let's bring them on an equal scale."
   ]
  },
  {
   "cell_type": "code",
   "execution_count": 38,
   "metadata": {},
   "outputs": [
    {
     "data": {
      "text/plain": [
       "0     0.669717\n",
       "1     0.676029\n",
       "2     0.322611\n",
       "3     0.461165\n",
       "4     0.523415\n",
       "        ...   \n",
       "80    0.454663\n",
       "81    0.390119\n",
       "82    0.443755\n",
       "83    0.419043\n",
       "84    0.495241\n",
       "Name: winpercent, Length: 85, dtype: float64"
      ]
     },
     "execution_count": 38,
     "metadata": {},
     "output_type": "execute_result"
    }
   ],
   "source": [
    "df.winpercent/100"
   ]
  },
  {
   "cell_type": "markdown",
   "metadata": {},
   "source": [
    "### Missing data analysis\n",
    "Missing data analysis is a common phenomenon, which unfortunately you won't observe very often in student datasets made for learning. This is why we simulate 5 missing data points in the candy dataset in the column *sugarpercent*. Let's import the incomplete dataset."
   ]
  },
  {
   "cell_type": "code",
   "execution_count": 39,
   "metadata": {},
   "outputs": [],
   "source": [
    "data_miss_url = \"https://raw.githubusercontent.com/miosga2309/python_fasttrack/master/candy-data-missing-sugarpercent.csv\"\n",
    "df_miss = pd.read_csv(data_miss_url)\n",
    "df_miss = df_miss.replace(df_miss.sugarpercent.isna(),np.nan)"
   ]
  },
  {
   "cell_type": "markdown",
   "metadata": {},
   "source": [
    "How do we find out if we have missing data? Is our missing data clearly marked or could it be zeroes. In the latter case, we could easily miss that some zero is actually missing data. Lucky for us, the missing data points in our csv-file are empty and *pandas* recognizes it as NaNs.\n",
    "\n",
    "We can use different methods for finding out where we have missing data, how many are missing and which rows have those (e.g., `descibe` or `isna` / `sum`)."
   ]
  },
  {
   "cell_type": "code",
   "execution_count": 40,
   "metadata": {},
   "outputs": [
    {
     "data": {
      "text/html": [
       "<div>\n",
       "<style scoped>\n",
       "    .dataframe tbody tr th:only-of-type {\n",
       "        vertical-align: middle;\n",
       "    }\n",
       "\n",
       "    .dataframe tbody tr th {\n",
       "        vertical-align: top;\n",
       "    }\n",
       "\n",
       "    .dataframe thead th {\n",
       "        text-align: right;\n",
       "    }\n",
       "</style>\n",
       "<table border=\"1\" class=\"dataframe\">\n",
       "  <thead>\n",
       "    <tr style=\"text-align: right;\">\n",
       "      <th></th>\n",
       "      <th>chocolate</th>\n",
       "      <th>fruity</th>\n",
       "      <th>caramel</th>\n",
       "      <th>peanutyalmondy</th>\n",
       "      <th>nougat</th>\n",
       "      <th>crispedricewafer</th>\n",
       "      <th>hard</th>\n",
       "      <th>bar</th>\n",
       "      <th>pluribus</th>\n",
       "      <th>sugarpercent</th>\n",
       "      <th>pricepercent</th>\n",
       "      <th>winpercent</th>\n",
       "    </tr>\n",
       "  </thead>\n",
       "  <tbody>\n",
       "    <tr>\n",
       "      <th>count</th>\n",
       "      <td>85.0</td>\n",
       "      <td>85.0</td>\n",
       "      <td>85.0</td>\n",
       "      <td>85.0</td>\n",
       "      <td>85.0</td>\n",
       "      <td>85.0</td>\n",
       "      <td>85.0</td>\n",
       "      <td>85.0</td>\n",
       "      <td>85.0</td>\n",
       "      <td>80.0</td>\n",
       "      <td>85.0</td>\n",
       "      <td>85.0</td>\n",
       "    </tr>\n",
       "  </tbody>\n",
       "</table>\n",
       "</div>"
      ],
      "text/plain": [
       "       chocolate  fruity  caramel  peanutyalmondy  nougat  crispedricewafer  \\\n",
       "count       85.0    85.0     85.0            85.0    85.0              85.0   \n",
       "\n",
       "       hard   bar  pluribus  sugarpercent  pricepercent  winpercent  \n",
       "count  85.0  85.0      85.0          80.0          85.0        85.0  "
      ]
     },
     "execution_count": 40,
     "metadata": {},
     "output_type": "execute_result"
    }
   ],
   "source": [
    "df_miss.describe()[0:1] # display only the first row where non-missing data is counted per column"
   ]
  },
  {
   "cell_type": "code",
   "execution_count": 41,
   "metadata": {},
   "outputs": [
    {
     "data": {
      "text/html": [
       "<div>\n",
       "<style scoped>\n",
       "    .dataframe tbody tr th:only-of-type {\n",
       "        vertical-align: middle;\n",
       "    }\n",
       "\n",
       "    .dataframe tbody tr th {\n",
       "        vertical-align: top;\n",
       "    }\n",
       "\n",
       "    .dataframe thead th {\n",
       "        text-align: right;\n",
       "    }\n",
       "</style>\n",
       "<table border=\"1\" class=\"dataframe\">\n",
       "  <thead>\n",
       "    <tr style=\"text-align: right;\">\n",
       "      <th></th>\n",
       "      <th>competitorname</th>\n",
       "      <th>chocolate</th>\n",
       "      <th>fruity</th>\n",
       "      <th>caramel</th>\n",
       "      <th>peanutyalmondy</th>\n",
       "      <th>nougat</th>\n",
       "      <th>crispedricewafer</th>\n",
       "      <th>hard</th>\n",
       "      <th>bar</th>\n",
       "      <th>pluribus</th>\n",
       "      <th>sugarpercent</th>\n",
       "      <th>pricepercent</th>\n",
       "      <th>winpercent</th>\n",
       "    </tr>\n",
       "  </thead>\n",
       "  <tbody>\n",
       "    <tr>\n",
       "      <th>0</th>\n",
       "      <td>0</td>\n",
       "      <td>0</td>\n",
       "      <td>0</td>\n",
       "      <td>0</td>\n",
       "      <td>0</td>\n",
       "      <td>0</td>\n",
       "      <td>0</td>\n",
       "      <td>0</td>\n",
       "      <td>0</td>\n",
       "      <td>0</td>\n",
       "      <td>5</td>\n",
       "      <td>0</td>\n",
       "      <td>0</td>\n",
       "    </tr>\n",
       "  </tbody>\n",
       "</table>\n",
       "</div>"
      ],
      "text/plain": [
       "   competitorname  chocolate  fruity  caramel  peanutyalmondy  nougat  \\\n",
       "0               0          0       0        0               0       0   \n",
       "\n",
       "   crispedricewafer  hard  bar  pluribus  sugarpercent  pricepercent  \\\n",
       "0                 0     0    0         0             5             0   \n",
       "\n",
       "   winpercent  \n",
       "0           0  "
      ]
     },
     "execution_count": 41,
     "metadata": {},
     "output_type": "execute_result"
    }
   ],
   "source": [
    "pd.DataFrame(df_miss.isna().sum()).transpose() # give back the sums of missing data points per column"
   ]
  },
  {
   "cell_type": "code",
   "execution_count": 42,
   "metadata": {},
   "outputs": [
    {
     "data": {
      "text/plain": [
       "4     True\n",
       "23    True\n",
       "24    True\n",
       "67    True\n",
       "79    True\n",
       "Name: sugarpercent, dtype: bool"
      ]
     },
     "execution_count": 42,
     "metadata": {},
     "output_type": "execute_result"
    }
   ],
   "source": [
    "df_miss.sugarpercent.isna()[df_miss.sugarpercent.isna() == True] # find out which indices the missing values have "
   ]
  },
  {
   "cell_type": "code",
   "execution_count": 43,
   "metadata": {},
   "outputs": [],
   "source": [
    "misses = [4,23,24,67,79] # let's store it for later"
   ]
  },
  {
   "cell_type": "markdown",
   "metadata": {},
   "source": [
    "#### Handling missing data\n",
    "There are several ways how to handle incomplete observations. We won't cover every possibility but look into two options.\n",
    "\n",
    "##### Deleting incomplete observations\n",
    "The simplest way is to just delete observations with missing data. We need to be careful doing that because of two reasons.\n",
    "\n",
    "1. We could have datasets where almost all observations have missing data points where we would end up removing large parts of our data.\n",
    "2. Missing data can occur randomly or systematically. If data is missing systematically, we would introduce bias (e.g., temperatures below -10°C are not recorded)\n",
    "\n",
    "We use *pandas*' `dropna` and then `describe` to observe how the dataframe has changed."
   ]
  },
  {
   "cell_type": "code",
   "execution_count": 44,
   "metadata": {},
   "outputs": [
    {
     "data": {
      "text/html": [
       "<div>\n",
       "<style scoped>\n",
       "    .dataframe tbody tr th:only-of-type {\n",
       "        vertical-align: middle;\n",
       "    }\n",
       "\n",
       "    .dataframe tbody tr th {\n",
       "        vertical-align: top;\n",
       "    }\n",
       "\n",
       "    .dataframe thead th {\n",
       "        text-align: right;\n",
       "    }\n",
       "</style>\n",
       "<table border=\"1\" class=\"dataframe\">\n",
       "  <thead>\n",
       "    <tr style=\"text-align: right;\">\n",
       "      <th></th>\n",
       "      <th>chocolate</th>\n",
       "      <th>fruity</th>\n",
       "      <th>caramel</th>\n",
       "      <th>peanutyalmondy</th>\n",
       "      <th>nougat</th>\n",
       "      <th>crispedricewafer</th>\n",
       "      <th>hard</th>\n",
       "      <th>bar</th>\n",
       "      <th>pluribus</th>\n",
       "      <th>sugarpercent</th>\n",
       "      <th>pricepercent</th>\n",
       "      <th>winpercent</th>\n",
       "    </tr>\n",
       "  </thead>\n",
       "  <tbody>\n",
       "    <tr>\n",
       "      <th>count</th>\n",
       "      <td>80.0</td>\n",
       "      <td>80.0</td>\n",
       "      <td>80.0</td>\n",
       "      <td>80.0</td>\n",
       "      <td>80.0</td>\n",
       "      <td>80.0</td>\n",
       "      <td>80.0</td>\n",
       "      <td>80.0</td>\n",
       "      <td>80.0</td>\n",
       "      <td>80.0</td>\n",
       "      <td>80.0</td>\n",
       "      <td>80.0</td>\n",
       "    </tr>\n",
       "  </tbody>\n",
       "</table>\n",
       "</div>"
      ],
      "text/plain": [
       "       chocolate  fruity  caramel  peanutyalmondy  nougat  crispedricewafer  \\\n",
       "count       80.0    80.0     80.0            80.0    80.0              80.0   \n",
       "\n",
       "       hard   bar  pluribus  sugarpercent  pricepercent  winpercent  \n",
       "count  80.0  80.0      80.0          80.0          80.0        80.0  "
      ]
     },
     "execution_count": 44,
     "metadata": {},
     "output_type": "execute_result"
    }
   ],
   "source": [
    "df_miss.dropna().describe()[0:1]"
   ]
  },
  {
   "cell_type": "markdown",
   "metadata": {},
   "source": [
    "##### Univariate imputation\n",
    "[Univariate imputation](https://scikit-learn.org/stable/modules/impute.html#univariate-feature-imputation) imputes values in the i-th feature dimension using only non-missing values in that feature dimension (e.g., sugarpercent).\n",
    "\n",
    "###### Mean imputation\n",
    "Mean imputation is the process of replacing missing values by the mean of the remaining values within a feature. For that, we use *sklearn*'s `SimpleImputer`."
   ]
  },
  {
   "cell_type": "code",
   "execution_count": 45,
   "metadata": {},
   "outputs": [],
   "source": [
    "imp = SimpleImputer(missing_values=np.nan, strategy='mean')\n",
    "imp.fit(np.array(df_miss.sugarpercent).reshape(-1,1))\n",
    "new_sugarpercent_mean = imp.transform(np.array(df_miss.sugarpercent).reshape(-1,1))"
   ]
  },
  {
   "cell_type": "markdown",
   "metadata": {},
   "source": [
    "Let's see how the mean imputation worked out."
   ]
  },
  {
   "cell_type": "code",
   "execution_count": 46,
   "metadata": {},
   "outputs": [
    {
     "data": {
      "text/plain": [
       "array([[0.47879999],\n",
       "       [0.47879999],\n",
       "       [0.47879999],\n",
       "       [0.47879999],\n",
       "       [0.47879999]])"
      ]
     },
     "execution_count": 46,
     "metadata": {},
     "output_type": "execute_result"
    }
   ],
   "source": [
    "new_sugarpercent_mean[misses] # indeces of the missing data points"
   ]
  },
  {
   "cell_type": "markdown",
   "metadata": {},
   "source": [
    "The mean of all non-missing values is around 0.48."
   ]
  },
  {
   "cell_type": "markdown",
   "metadata": {},
   "source": [
    "##### Multivariate imputation\n",
    "By contrast, [multivariate imputation](https://scikit-learn.org/stable/modules/impute.html#multivariate-feature-imputation) algorithms use the entire set of available feature dimensions to estimate the missing values.\n",
    "\n",
    "###### kNN imputation\n",
    "kNN (k nearest neighbour) imputation provides values for missing data points based on a distance metric that is used to find the nearest neighbors. The missing value will be replaced by the value of the average of the k (2 in our case) nearest neighbourd that have values in the particular feature. The default distance metric is the Euclidean distance. Depending on the use case other distances might be more useful (e.g., Manhatten distance)."
   ]
  },
  {
   "cell_type": "code",
   "execution_count": 47,
   "metadata": {},
   "outputs": [],
   "source": [
    "imp_knn = KNNImputer(n_neighbors=2, weights=\"uniform\")\n",
    "imp_knn.fit(np.array(df_miss.drop('competitorname', axis=1)))\n",
    "new_df_knn = imp_knn.transform(np.array(df_miss.drop('competitorname', axis=1)))"
   ]
  },
  {
   "cell_type": "code",
   "execution_count": 48,
   "metadata": {},
   "outputs": [
    {
     "data": {
      "text/plain": [
       "array([0.366     , 0.83649999, 0.40049999, 0.366     , 0.37700002])"
      ]
     },
     "execution_count": 48,
     "metadata": {},
     "output_type": "execute_result"
    }
   ],
   "source": [
    "new_df_knn[misses,9]"
   ]
  },
  {
   "cell_type": "markdown",
   "metadata": {},
   "source": [
    "The average of the k (2 in our case) nearest neighbours of our observations that have non-missing values in *sugarpercent* gave back the following values.\n",
    "\n",
    "Data imputations is a form of prediction and this can get very complex. We could apply iterative imputation techniques such as MICE (Multivariate Imputation by Chained Equation) or a neural network. This goes beyond the scope of this course but should emphasize the possibilities data scientists and engineers have."
   ]
  },
  {
   "cell_type": "markdown",
   "metadata": {},
   "source": [
    "## Inference from data\n",
    "As of now, we havedone descriptive statistics, i.e. describing the data with values and visuals. In the next steps, we want to draw conclusions from our data for the future, which means in our case to predict the popularity of new candy. This is by the way machine learning. It doesn't always have to deep neural networks ;)\n",
    "\n",
    "### Training a model\n",
    "The ordinary least squares (OLS) regression fits a linear model with coefficients w = (w<sub>1</sub>, …, w<sub>p</sub>) to minimize the residual sum of squares between the observed targets in the dataset, and the targets predicted by the linear approximation."
   ]
  },
  {
   "cell_type": "code",
   "execution_count": 55,
   "metadata": {},
   "outputs": [
    {
     "name": "stdout",
     "output_type": "stream",
     "text": [
      "                                 OLS Regression Results                                \n",
      "=======================================================================================\n",
      "Dep. Variable:             winpercent   R-squared (uncentered):                   0.933\n",
      "Model:                            OLS   Adj. R-squared (uncentered):              0.923\n",
      "Method:                 Least Squares   F-statistic:                              93.39\n",
      "Date:                Wed, 01 Dec 2021   Prob (F-statistic):                    9.05e-39\n",
      "Time:                        14:56:35   Log-Likelihood:                         -342.36\n",
      "No. Observations:                  85   AIC:                                      706.7\n",
      "Df Residuals:                      74   BIC:                                      733.6\n",
      "Df Model:                          11                                                  \n",
      "Covariance Type:            nonrobust                                                  \n",
      "====================================================================================\n",
      "                       coef    std err          t      P>|t|      [0.025      0.975]\n",
      "------------------------------------------------------------------------------------\n",
      "chocolate           33.8809      4.726      7.168      0.000      24.463      43.299\n",
      "fruity              28.1355      4.007      7.021      0.000      20.150      36.121\n",
      "caramel              7.4760      4.894      1.528      0.131      -2.275      17.227\n",
      "peanutyalmondy      14.2826      4.866      2.935      0.004       4.587      23.978\n",
      "nougat               1.4927      7.774      0.192      0.848     -13.998      16.984\n",
      "crispedricewafer     7.2046      7.159      1.006      0.318      -7.061      21.470\n",
      "hard                -1.4097      4.629     -0.305      0.762     -10.634       7.815\n",
      "bar                  6.8634      6.797      1.010      0.316      -6.679      20.406\n",
      "pluribus             9.7175      3.723      2.610      0.011       2.299      17.137\n",
      "sugarpercent        14.2881      6.276      2.277      0.026       1.784      26.792\n",
      "pricepercent         6.1430      7.212      0.852      0.397      -8.228      20.514\n",
      "==============================================================================\n",
      "Omnibus:                        2.820   Durbin-Watson:                   1.618\n",
      "Prob(Omnibus):                  0.244   Jarque-Bera (JB):                2.246\n",
      "Skew:                           0.386   Prob(JB):                        0.325\n",
      "Kurtosis:                       3.197   Cond. No.                         7.72\n",
      "==============================================================================\n",
      "\n",
      "Notes:\n",
      "[1] R² is computed without centering (uncentered) since the model does not contain a constant.\n",
      "[2] Standard Errors assume that the covariance matrix of the errors is correctly specified.\n"
     ]
    }
   ],
   "source": [
    "est = sm.OLS(df.winpercent, df.drop(['competitorname','winpercent'], axis=1)) # target variable, explanatory variables\n",
    "fit = est.fit()\n",
    "print(fit.summary())"
   ]
  },
  {
   "cell_type": "markdown",
   "metadata": {},
   "source": [
    "Now we have trained a OLS regression model. The overview above gives information about the total variance explained of the model adjusted for the sample size (adj. R<sup>2</sup> = 92.3%) or statistically significant variables at an alpha level of 0.05 (e.g., *chocolate, fruity, peanutyalmondy* and *pluribus*). We can also see that *pricepercent* is not statistically significant. This may lay in the experiment's design because people had to choose which candy of random pairs they prefer without having to buy them.\n",
    "\n",
    "### Testing the model"
   ]
  },
  {
   "cell_type": "code",
   "execution_count": null,
   "metadata": {},
   "outputs": [],
   "source": []
  },
  {
   "cell_type": "code",
   "execution_count": null,
   "metadata": {},
   "outputs": [],
   "source": []
  },
  {
   "cell_type": "code",
   "execution_count": 50,
   "metadata": {},
   "outputs": [],
   "source": [
    "# ideen\n",
    "## quiz über day2 (was macht describe() oder df.var[-1] usw.)\n",
    "## windows forms für quiz\n",
    "## test data set für day 2 macht kerim"
   ]
  }
 ],
 "metadata": {
  "kernelspec": {
   "display_name": "Python 3 (ipykernel)",
   "language": "python",
   "name": "python3"
  },
  "language_info": {
   "codemirror_mode": {
    "name": "ipython",
    "version": 3
   },
   "file_extension": ".py",
   "mimetype": "text/x-python",
   "name": "python",
   "nbconvert_exporter": "python",
   "pygments_lexer": "ipython3",
   "version": "3.9.7"
  }
 },
 "nbformat": 4,
 "nbformat_minor": 4
}
